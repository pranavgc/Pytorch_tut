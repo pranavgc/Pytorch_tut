{
 "cells": [
  {
   "cell_type": "code",
   "execution_count": null,
   "id": "c843e01b",
   "metadata": {},
   "outputs": [],
   "source": [
    "import torch\n",
    "from torch import nn\n",
    "from torch.utils.data import Dataset,DataLoader\n",
    "from torchvision import datasets\n",
    "from torchvision.transforms import ToTensor, Lambda\n",
    "import random"
   ]
  },
  {
   "cell_type": "code",
   "execution_count": null,
   "id": "57d92881",
   "metadata": {},
   "outputs": [],
   "source": [
    "use_cuda = torch.cuda.is_available()\n",
    "device = torch.device(\"cuda:0\" if use_cuda else \"cpu\")\n",
    "torch.backends.cudnn.benchmark = True\n",
    "\n",
    "# If you use GPU, the device should be cuda\n",
    "#device = 'cpu'\n",
    "print('Using device:', device)"
   ]
  },
  {
   "cell_type": "code",
   "execution_count": null,
   "id": "92e74778",
   "metadata": {},
   "outputs": [],
   "source": [
    "# Sample tensor A\n",
    "A = torch.tensor([[1.0, 1.0], [1.0, 2.0], [1.0, 3.0]])\n",
    "#Sample tensor from list\n",
    "B=[random.randint(0,1) for i in range(7)]\n",
    "B_tensor=torch.tensor(B)\n",
    "print(\"Sample tensor\", A)\n",
    "print(\"\\nTensor from list\",B)\n",
    "print(A.shape)"
   ]
  },
  {
   "cell_type": "code",
   "execution_count": null,
   "id": "97797a3b",
   "metadata": {},
   "outputs": [],
   "source": [
    "#Creating a dataset\n",
    "class Data(Dataset):\n",
    "    #Constructor\n",
    "    def __init__(self):\n",
    "        ############# Your code here ############\n",
    "        ## Note:\n",
    "        ##1.Create a column of values between -1 and 1 with 0.1 step\n",
    "        ##2.Create a column of zeros with length of x\n",
    "        ##(~2 lines of code)\n",
    "        self.x = torch.arange(-1, 1, 0.1).view(-1, 2) \n",
    "        self.y = torch.zeros(self.x.shape[0], 1) \n",
    "        \n",
    "        #########################################\n",
    "        self.y[self.x[:, 0] > 0.2 ] = 1 #y = 1 when x > 0.2\n",
    "        self.len = self.x.shape[0]\n",
    "        \n",
    "    #Getter\n",
    "    def __getitem__(self, index):\n",
    "        return self.x[index], self.y[index]\n",
    "    \n",
    "    #Length\n",
    "    def __len__(self):\n",
    "        return self.len\n",
    "\n",
    "\n",
    "data_set = Data()\n",
    "print(data_set.x) \n",
    "print(data_set.y) \n"
   ]
  },
  {
   "cell_type": "code",
   "execution_count": null,
   "id": "79afa21f",
   "metadata": {},
   "outputs": [],
   "source": [
    "#Loading dataset\n",
    "train_dataloader = DataLoader(dataset = data_set, batch_size = 3,shuffle=True)\n",
    "test_dataloader = DataLoader(dataset = data_set, batch_size = 3, shuffle=False)"
   ]
  },
  {
   "cell_type": "code",
   "execution_count": null,
   "id": "c0995351",
   "metadata": {},
   "outputs": [],
   "source": [
    "# Create linear_regression Class\n",
    "class linear_regression(nn.Module):\n",
    "    \n",
    "    # Constructor\n",
    "    def __init__(self, input_size, output_size):\n",
    "        super(linear_regression, self).__init__()\n",
    "        ############# Your code here ############\n",
    "        ## Note:\n",
    "        ## 1. Define a single linear layer using nn.Linear\n",
    "        ##(~1 line of code)\n",
    "        self.linear = nn.Linear(input_size, output_size)\n",
    "        #########################################\n",
    "    \n",
    "    # Prediction function\n",
    "    def forward(self, x):\n",
    "        ############# Your code here ############\n",
    "        ## Note:\n",
    "        ## 1. Calculate the ouput using the defined variable\n",
    "        ##(~1 line of code)\n",
    "        yhat = self.linear(x)\n",
    "        #########################################\n",
    "        return yhat"
   ]
  },
  {
   "cell_type": "code",
   "execution_count": null,
   "id": "dd9a8aa3",
   "metadata": {},
   "outputs": [],
   "source": [
    "# Create logistic_regression Class\n",
    "class logistic_regression(nn.Module):\n",
    "    \n",
    "    # Constructor\n",
    "    def __init__(self, input_size, output_size):\n",
    "        super(logistic_regression, self).__init__()\n",
    "        ############# Your code here ############\n",
    "        ## Note:\n",
    "        ## 1. Define a single linear layer using nn.Linear\n",
    "        ##(~1 line of code)\n",
    "        self.linear = nn.Linear(input_size, output_size)\n",
    "        #########################################\n",
    "    \n",
    "    # Prediction function\n",
    "    def forward(self, x):\n",
    "        ############# Your code here ############\n",
    "        ## Note:\n",
    "        ## 1. Calculate the ouput using the defined variables with sigmoid activation\n",
    "        ##(~2 line of code)\n",
    "        yhat = self.linear(x)\n",
    "        yhat=torch.sigmoid(yhat)\n",
    "        #########################################\n",
    "        return yhat"
   ]
  },
  {
   "cell_type": "code",
   "execution_count": null,
   "id": "82007812",
   "metadata": {},
   "outputs": [],
   "source": [
    "# Please do not change the args\n",
    "args = {\n",
    "    'device': device,\n",
    "    'input_dim':X.shape[1] ,\n",
    "    'output_dim': 1\n",
    "}\n",
    "args"
   ]
  },
  {
   "cell_type": "code",
   "execution_count": null,
   "id": "cc83938a",
   "metadata": {},
   "outputs": [],
   "source": [
    "############# Your code here ############\n",
    "## Note:\n",
    "## 1. Set model to custom class with appropriate inputs\n",
    "## 2. Print the model\n",
    "##(~2 lines of code)\n",
    "model = logistic_regression(args['input_dim'], args['output_dim']).to(device)\n",
    "print(model)\n",
    "#########################################\n",
    "next(model.parameters()).device "
   ]
  },
  {
   "cell_type": "code",
   "execution_count": null,
   "id": "7f9c6283",
   "metadata": {},
   "outputs": [],
   "source": [
    "for data in train_dataloader:\n",
    "    a=data\n",
    "    break\n",
    "yhat = model(a[0])\n",
    "print(\"Result: \", yhat)"
   ]
  },
  {
   "cell_type": "code",
   "execution_count": null,
   "id": "e7ad41ad",
   "metadata": {},
   "outputs": [],
   "source": [
    "#Checking the model parameters\n",
    "print(\"The parameters: \", model.state_dict())"
   ]
  },
  {
   "cell_type": "code",
   "execution_count": null,
   "id": "8eb4197b",
   "metadata": {},
   "outputs": [],
   "source": [
    "# Practice: \n",
    "\n",
    "X = torch.tensor([[11.0, 12.0, 13, 14], [11, 12, 13, 14]])\n",
    "############# Your code here ############\n",
    "## Note:\n",
    "##1.Build a model to predict for the tensor X.\n",
    "##(~3 lines of code)\n",
    "model = linear_regression(4,1)\n",
    "yhat=model(X)\n",
    "print(\"Result:\",yhat)"
   ]
  },
  {
   "cell_type": "code",
   "execution_count": null,
   "id": "e57acbec",
   "metadata": {},
   "outputs": [],
   "source": []
  }
 ],
 "metadata": {
  "kernelspec": {
   "display_name": "Python 3 (ipykernel)",
   "language": "python",
   "name": "python3"
  },
  "language_info": {
   "codemirror_mode": {
    "name": "ipython",
    "version": 3
   },
   "file_extension": ".py",
   "mimetype": "text/x-python",
   "name": "python",
   "nbconvert_exporter": "python",
   "pygments_lexer": "ipython3",
   "version": "3.8.10"
  }
 },
 "nbformat": 4,
 "nbformat_minor": 5
}
